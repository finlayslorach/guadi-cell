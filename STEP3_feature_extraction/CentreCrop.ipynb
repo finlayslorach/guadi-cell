{
 "cells": [
  {
   "cell_type": "code",
   "execution_count": 8,
   "id": "clinical-valley",
   "metadata": {},
   "outputs": [],
   "source": [
    "from skimage import io, exposure, measure\n",
    "import pandas as pd\n",
    "import numpy as np \n",
    "import os \n",
    "import glob \n",
    "import matplotlib.pyplot as plt\n",
    "import re\n",
    "import cv2\n",
    "from pathlib import Path"
   ]
  },
  {
   "cell_type": "code",
   "execution_count": 13,
   "id": "cross-founder",
   "metadata": {},
   "outputs": [],
   "source": [
    "# Get CSV for each timepoint/well\n",
    "def main(well_csv_list, re_time, re_well,re_field, BF_path, output):\n",
    "    for csv in well_csv_list:\n",
    "        print(f'--current csv: {csv}--')\n",
    "\n",
    "        # BF_file and Obj csv file located in different dir; use csv to match each obj to correct BF_image \n",
    "        df = pd.read_csv(csv); BF_files = df.iloc[:, df.columns.get_loc('FileName_BF')]\n",
    "\n",
    "        # For each csv (timepoint/well) split csv into different FOV (1-9)\n",
    "        # Reset field number for each csv file i.e. well\n",
    "        for f, field in enumerate(pd.unique(BF_files)): \n",
    "            \n",
    "            # Locate correct BF_image using metadata extracted from csv file\n",
    "            time = re_time.findall(str(field))[0]; well = re_well.findall(str(field))[0]; field_re=re_field.findall(str(field))[0]\n",
    "            BF_file = f'{BF_path}/{time}/{well}/Brightfield/{field}'\n",
    "\n",
    "            # Split df on FOV; get centre coordinates for each obj\n",
    "            df_field = df[df['FileName_BF'].isin([field])]\n",
    "            \n",
    "            print(field)\n",
    "            \n",
    "            # Get Image masks for every FOV in Well\n",
    "            field_f = field_re.replace('_', '') \n",
    "            \n",
    "            print(len(df_field))\n",
    "            # Centre crop all objects & Save to new CentreCrops/Timepoint/Well/*\n",
    "            output_dir = os.path.join(output, time, well)\n",
    "\n",
    "            for obj in range(0,len(df_field)):\n",
    "                print(obj)\n",
    "                \n",
    "                img_list=glob.glob(f'/hpc/scratch/hdd2/fs541623/CellProfilerFeatureExtraction/CP_Cropped_Cells/{time}/{well}/{field_f}/*.tiff')\n",
    "                img_masks = io.imread(img_list[0])\n",
    "                \n",
    "                print('----------innner for loop -----------------------')\n",
    "                obj_filename = f'{time}_{well}_Field_{f+1}_obj{obj}.tif'\n",
    "                cropped_img = get_centre_crop(df_field, BF_file, obj, img_masks)\n",
    "                save_crop(obj_filename, cropped_img, output_dir)\n",
    "        \n",
    "            # Update field number \n",
    "            print(f'outer -----------Object: {obj} for field: {field} {f+1}successfully cropped-----------')\n",
    "                \n",
    "    return 0"
   ]
  },
  {
   "cell_type": "code",
   "execution_count": 3,
   "id": "thorough-conditioning",
   "metadata": {},
   "outputs": [],
   "source": [
    "# Centre Crop Cells\n",
    "def crop_img_test(df, img, obj_number):\n",
    "\n",
    "    # Get Coordinates\n",
    "    centre_X = int(df.iloc[obj_number, df.columns.get_loc('Location_Center_X')])\n",
    "    centre_Y = int(df.iloc[obj_number, df.columns.get_loc('Location_Center_Y')])\n",
    "    \n",
    "    # Crop using centre\n",
    "    y2, y1, x2, x1 = int(centre_Y+100), int(centre_Y-100),  int(centre_X+100), int(centre_X-100)\n",
    "    cropped = img[y1:y2, x1:x2]\n",
    "    \n",
    "    return cropped"
   ]
  },
  {
   "cell_type": "code",
   "execution_count": 74,
   "id": "compound-seller",
   "metadata": {},
   "outputs": [],
   "source": [
    "# Save Image to timepoint/well dir\n",
    "def save_crop(file, img, output_dir):\n",
    "    if not os.path.exists(output_dir):\n",
    "        os.makedirs(output_dir)\n",
    "    grayscale_stack = np.dstack([img, img, img])\n",
    "    io.imsave(os.path.join(output_dir, file), grayscale_stack)\n",
    "    print('saving image')\n",
    "    \n",
    "    return 0"
   ]
  },
  {
   "cell_type": "code",
   "execution_count": 145,
   "id": "rapid-swimming",
   "metadata": {},
   "outputs": [],
   "source": [
    "BF_file = '/hpc/scratch/hdd2/fs541623/Pre_processed_Images/Time_16hrs_R1/Well_08/Brightfield/Time_16hrs_R1_Well_08_Field_1_C1.tif'"
   ]
  },
  {
   "cell_type": "code",
   "execution_count": 147,
   "id": "inclusive-oxide",
   "metadata": {},
   "outputs": [],
   "source": [
    "df = pd.read_csv('/hpc/scratch/hdd2/fs541623/CellProfilerFeatureExtraction/CP_Data/Time_16hrs_R1/Well_08/FilteredCytObj.csv')"
   ]
  },
  {
   "cell_type": "code",
   "execution_count": 398,
   "id": "legislative-average",
   "metadata": {},
   "outputs": [],
   "source": [
    "filepath = '/hpc/scratch/hdd2/fs541623/CellProfilerFeatureExtraction/CP_Cropped_Cells/Time_16hrs_R1/Well_08/Field1/FilteredCytObj_2.tiff'"
   ]
  },
  {
   "cell_type": "code",
   "execution_count": 12,
   "id": "ignored-creek",
   "metadata": {},
   "outputs": [],
   "source": [
    "masks_f = glob.glob('/hpc/scratch/hdd2/fs541623/CellProfilerFeatureExtraction/CP_Cropped_Cells/Time_16hrs_R1/Well_08/Field1/*.tiff')"
   ]
  },
  {
   "cell_type": "code",
   "execution_count": 6,
   "id": "mobile-butter",
   "metadata": {},
   "outputs": [],
   "source": [
    "masks = io.imread_collection(masks_f)"
   ]
  },
  {
   "cell_type": "code",
   "execution_count": 11,
   "id": "reported-accident",
   "metadata": {},
   "outputs": [
    {
     "ename": "AttributeError",
     "evalue": "module 'skimage.measure' has no attribute 'regionprops_table'",
     "output_type": "error",
     "traceback": [
      "\u001b[0;31m---------------------------------------------------------------------------\u001b[0m",
      "\u001b[0;31mAttributeError\u001b[0m                            Traceback (most recent call last)",
      "\u001b[0;32m<ipython-input-11-519d54e623ee>\u001b[0m in \u001b[0;36m<module>\u001b[0;34m\u001b[0m\n\u001b[1;32m      1\u001b[0m \u001b[0;31m# get centre coordinates of mask\u001b[0m\u001b[0;34m\u001b[0m\u001b[0;34m\u001b[0m\u001b[0;34m\u001b[0m\u001b[0m\n\u001b[1;32m      2\u001b[0m \u001b[0;32mfor\u001b[0m \u001b[0mmask\u001b[0m \u001b[0;32min\u001b[0m \u001b[0mmasks\u001b[0m\u001b[0;34m:\u001b[0m\u001b[0;34m\u001b[0m\u001b[0;34m\u001b[0m\u001b[0m\n\u001b[0;32m----> 3\u001b[0;31m     \u001b[0mregions\u001b[0m \u001b[0;34m=\u001b[0m \u001b[0mmeasure\u001b[0m\u001b[0;34m.\u001b[0m\u001b[0mregionprops_table\u001b[0m\u001b[0;34m(\u001b[0m\u001b[0mmask\u001b[0m\u001b[0;34m)\u001b[0m\u001b[0;34m\u001b[0m\u001b[0;34m\u001b[0m\u001b[0m\n\u001b[0m\u001b[1;32m      4\u001b[0m     out_d = _props_to_dict(regions, properties=properties,\n\u001b[1;32m      5\u001b[0m                            separator=separator)\n",
      "\u001b[0;31mAttributeError\u001b[0m: module 'skimage.measure' has no attribute 'regionprops_table'"
     ]
    }
   ],
   "source": [
    "print(data.to_string())\n",
    "\n"
   ]
  },
  {
   "cell_type": "code",
   "execution_count": 406,
   "id": "accessible-memphis",
   "metadata": {},
   "outputs": [
    {
     "data": {
      "text/plain": [
       "'/hpc/scratch/hdd2/fs541623/CellProfilerFeatureExtraction/CP_Cropped_Cells/Time_16hrs_R1/Well_08/Field1/FilteredCytObj_2.tiff'"
      ]
     },
     "execution_count": 406,
     "metadata": {},
     "output_type": "execute_result"
    }
   ],
   "source": [
    "masks[0]"
   ]
  },
  {
   "cell_type": "code",
   "execution_count": 327,
   "id": "historic-hypothetical",
   "metadata": {},
   "outputs": [
    {
     "name": "stdout",
     "output_type": "stream",
     "text": [
      "629\n"
     ]
    }
   ],
   "source": [
    "print(len(masks))"
   ]
  },
  {
   "cell_type": "code",
   "execution_count": 400,
   "id": "excessive-biotechnology",
   "metadata": {},
   "outputs": [
    {
     "data": {
      "text/plain": [
       "'/hpc/scratch/hdd2/fs541623/CellProfilerFeatureExtraction/CP_Cropped_Cells/Time_16hrs_R1/Well_08/Field1/FilteredCytObj_2.tiff'"
      ]
     },
     "execution_count": 400,
     "metadata": {},
     "output_type": "execute_result"
    }
   ],
   "source": [
    "masks[0]"
   ]
  },
  {
   "cell_type": "code",
   "execution_count": 2,
   "id": "assured-mitchell",
   "metadata": {},
   "outputs": [
    {
     "data": {
      "text/plain": [
       "inf"
      ]
     },
     "execution_count": 2,
     "metadata": {},
     "output_type": "execute_result"
    }
   ],
   "source": [
    "float('inf')"
   ]
  },
  {
   "cell_type": "code",
   "execution_count": 221,
   "id": "dying-hunger",
   "metadata": {},
   "outputs": [],
   "source": [
    "compare=str('FilteredCytObj_') + str(1) + str('.tiff')"
   ]
  },
  {
   "cell_type": "code",
   "execution_count": 184,
   "id": "sapphire-casino",
   "metadata": {},
   "outputs": [
    {
     "ename": "ValueError",
     "evalue": "invalid literal for int() with base 10: 'Cropped'",
     "output_type": "error",
     "traceback": [
      "\u001b[0;31m---------------------------------------------------------------------------\u001b[0m",
      "\u001b[0;31mValueError\u001b[0m                                Traceback (most recent call last)",
      "\u001b[0;32m<ipython-input-184-80ce245721da>\u001b[0m in \u001b[0;36m<module>\u001b[0;34m\u001b[0m\n\u001b[0;32m----> 1\u001b[0;31m \u001b[0mmasks\u001b[0m\u001b[0;34m.\u001b[0m\u001b[0msort\u001b[0m\u001b[0;34m(\u001b[0m\u001b[0mkey\u001b[0m \u001b[0;34m=\u001b[0m\u001b[0;34m(\u001b[0m\u001b[0;32mlambda\u001b[0m \u001b[0mx\u001b[0m\u001b[0;34m:\u001b[0m \u001b[0mint\u001b[0m\u001b[0;34m(\u001b[0m\u001b[0mx\u001b[0m\u001b[0;34m.\u001b[0m\u001b[0msplit\u001b[0m\u001b[0;34m(\u001b[0m\u001b[0;34m'_'\u001b[0m\u001b[0;34m)\u001b[0m\u001b[0;34m[\u001b[0m\u001b[0;36m1\u001b[0m\u001b[0;34m]\u001b[0m\u001b[0;34m)\u001b[0m\u001b[0;34m)\u001b[0m\u001b[0;34m)\u001b[0m\u001b[0;34m\u001b[0m\u001b[0;34m\u001b[0m\u001b[0m\n\u001b[0m",
      "\u001b[0;32m<ipython-input-184-80ce245721da>\u001b[0m in \u001b[0;36m<lambda>\u001b[0;34m(x)\u001b[0m\n\u001b[0;32m----> 1\u001b[0;31m \u001b[0mmasks\u001b[0m\u001b[0;34m.\u001b[0m\u001b[0msort\u001b[0m\u001b[0;34m(\u001b[0m\u001b[0mkey\u001b[0m \u001b[0;34m=\u001b[0m\u001b[0;34m(\u001b[0m\u001b[0;32mlambda\u001b[0m \u001b[0mx\u001b[0m\u001b[0;34m:\u001b[0m \u001b[0mint\u001b[0m\u001b[0;34m(\u001b[0m\u001b[0mx\u001b[0m\u001b[0;34m.\u001b[0m\u001b[0msplit\u001b[0m\u001b[0;34m(\u001b[0m\u001b[0;34m'_'\u001b[0m\u001b[0;34m)\u001b[0m\u001b[0;34m[\u001b[0m\u001b[0;36m1\u001b[0m\u001b[0;34m]\u001b[0m\u001b[0;34m)\u001b[0m\u001b[0;34m)\u001b[0m\u001b[0;34m)\u001b[0m\u001b[0;34m\u001b[0m\u001b[0;34m\u001b[0m\u001b[0m\n\u001b[0m",
      "\u001b[0;31mValueError\u001b[0m: invalid literal for int() with base 10: 'Cropped'"
     ]
    }
   ],
   "source": [
    "masks.sort(key =(lambda x: int(x.split('_')[1])))"
   ]
  },
  {
   "cell_type": "code",
   "execution_count": 271,
   "id": "present-documentation",
   "metadata": {},
   "outputs": [
    {
     "data": {
      "text/plain": [
       "<matplotlib.image.AxesImage at 0x2aaafaa61c18>"
      ]
     },
     "execution_count": 271,
     "metadata": {},
     "output_type": "execute_result"
    },
    {
     "data": {
      "image/png": "[encoded data removed]",
      "text/plain": [
       "<Figure size 432x288 with 1 Axes>"
      ]
     },
     "metadata": {
      "needs_background": "light"
     },
     "output_type": "display_data"
    }
   ],
   "source": [
    "plt.imshow(crop_img_test(df, io.imread(masks[0]), 0), cmap='Greys')"
   ]
  },
  {
   "cell_type": "code",
   "execution_count": 375,
   "id": "cardiovascular-tomato",
   "metadata": {},
   "outputs": [],
   "source": [
    "def get_blurred_mask(df, BF_file, obj_number, mask): \n",
    "    BF_img = io.imread(BF_file).astype('float')/255\n",
    "    mask = io.imread(mask)\n",
    "\n",
    "    print('------------get centre crop--------------------')\n",
    "    mask_blurred  = cv2.GaussianBlur(mask,(3,3),0)\n",
    "    mask_large=np.where(mask_blurred>0, BF_img, 1)\n",
    "    mask_large_blurred = cv2.GaussianBlur(mask_large, (11,11),0)\n",
    "    img=mask_large_blurred.astype('float')/255\n",
    "    img=((img*BF_img)*255).astype('uint16')\n",
    "    return img\n"
   ]
  },
  {
   "cell_type": "code",
   "execution_count": 403,
   "id": "educated-extent",
   "metadata": {},
   "outputs": [
    {
     "name": "stdout",
     "output_type": "stream",
     "text": [
      "------------get centre crop--------------------\n"
     ]
    },
    {
     "data": {
      "text/plain": [
       "<matplotlib.image.AxesImage at 0x2aaafba99a90>"
      ]
     },
     "execution_count": 403,
     "metadata": {},
     "output_type": "execute_result"
    },
    {
     "data": {
      "image/png": "[encoded data removed]",
      "text/plain": [
       "<Figure size 432x288 with 1 Axes>"
      ]
     },
     "metadata": {
      "needs_background": "light"
     },
     "output_type": "display_data"
    }
   ],
   "source": [
    "masked = (get_blurred_mask(df, BF_file, 1, masks[0])); \n",
    "cropped_img = crop_img_test(df, masked, 1); plt.imshow(masked, cmap='Greys')"
   ]
  },
  {
   "cell_type": "code",
   "execution_count": 315,
   "id": "dramatic-taxation",
   "metadata": {},
   "outputs": [
    {
     "data": {
      "text/plain": [
       "<matplotlib.image.AxesImage at 0x2aaafb13a1d0>"
      ]
     },
     "execution_count": 315,
     "metadata": {},
     "output_type": "execute_result"
    },
    {
     "data": {
      "image/png": "[encoded data removed]",
      "text/plain": [
       "<Figure size 432x288 with 1 Axes>"
      ]
     },
     "metadata": {
      "needs_background": "light"
     },
     "output_type": "display_data"
    }
   ],
   "source": [
    "plt.imshow(io.imread(masks[0]), cmap='binary')"
   ]
  },
  {
   "cell_type": "code",
   "execution_count": 316,
   "id": "duplicate-tolerance",
   "metadata": {},
   "outputs": [
    {
     "name": "stdout",
     "output_type": "stream",
     "text": [
      "------------get centre crop--------------------\n"
     ]
    },
    {
     "data": {
      "text/plain": [
       "<matplotlib.image.AxesImage at 0x2aaafb19eac8>"
      ]
     },
     "execution_count": 316,
     "metadata": {},
     "output_type": "execute_result"
    },
    {
     "data": {
      "image/png": "[encoded data removed]",
      "text/plain": [
       "<Figure size 432x288 with 1 Axes>"
      ]
     },
     "metadata": {
      "needs_background": "light"
     },
     "output_type": "display_data"
    }
   ],
   "source": [
    "BF_img = io.imread(BF_file).astype('float')/255\n",
    "\n",
    "print('------------get centre crop--------------------')\n",
    "mask_blurred  = cv2.GaussianBlur(io.imread(masks[0]),(3,3),0)\n",
    "mask_large=np.where(mask_blurred>0, BF_img, 1)\n",
    "mask_large_blurred = cv2.GaussianBlur(mask_large, (11,11),0)\n",
    "img=mask_large_blurred.astype('float')/255\n",
    "img=((img*BF_img)*255).astype('uint16')\n",
    "plt.imshow(img)"
   ]
  },
  {
   "cell_type": "code",
   "execution_count": 144,
   "id": "practical-profit",
   "metadata": {},
   "outputs": [
    {
     "data": {
      "text/plain": [
       "array([[0, 0, 0, ..., 0, 0, 0],\n",
       "       [0, 0, 0, ..., 0, 0, 0],\n",
       "       [0, 0, 0, ..., 0, 0, 0],\n",
       "       ...,\n",
       "       [0, 0, 0, ..., 0, 0, 0],\n",
       "       [0, 0, 0, ..., 0, 0, 0],\n",
       "       [0, 0, 0, ..., 0, 0, 0]], dtype=uint8)"
      ]
     },
     "execution_count": 144,
     "metadata": {},
     "output_type": "execute_result"
    }
   ],
   "source": [
    "df = pd.read_csv('/hpc/scratch/hdd2/fs541623/CellProfilerFeatureExtraction/CP_Data/Time_16hrs_R1/Well_08/FilteredCytObj.csv')\n",
    "BF_file = '/hpc/scratch/hdd2/fs541623/Pre_processed_Images/Time_16hrs_R1/Well_08/Brightfield/Time_16hrs_R1_Well_08_Field_1_C1.tif'\n",
    "mask = io.imread('/hpc/scratch/hdd2/fs541623/CellProfilerFeatureExtraction/CP_Cropped_Cells/Time_16hrs_R1/Well_08/Field1/FilteredCytObj_1.tiff')\n",
    "mask_name=sorted(glob.glob(f'/hpc/scratch/hdd2/fs541623/CellProfilerFeatureExtraction/CP_Cropped_Cells/Time_16hrs_R1/Well_08/Field1/FilteredCyt*'), key=os.path.getctime)\n",
    "io.imread(mask_name[0])"
   ]
  },
  {
   "cell_type": "code",
   "execution_count": 329,
   "id": "innovative-sheriff",
   "metadata": {},
   "outputs": [
    {
     "ename": "TypeError",
     "evalue": "main() missing 1 required positional argument: 'output'",
     "output_type": "error",
     "traceback": [
      "\u001b[0;31m---------------------------------------------------------------------------\u001b[0m",
      "\u001b[0;31mTypeError\u001b[0m                                 Traceback (most recent call last)",
      "\u001b[0;32m<ipython-input-329-55fcaae8d0b0>\u001b[0m in \u001b[0;36m<module>\u001b[0;34m\u001b[0m\n\u001b[1;32m     11\u001b[0m \u001b[0;34m\u001b[0m\u001b[0m\n\u001b[1;32m     12\u001b[0m     \u001b[0;31m# Save centre cropped cells for each img in each timepoint/well\u001b[0m\u001b[0;34m\u001b[0m\u001b[0;34m\u001b[0m\u001b[0;34m\u001b[0m\u001b[0m\n\u001b[0;32m---> 13\u001b[0;31m     \u001b[0mmain\u001b[0m\u001b[0;34m(\u001b[0m\u001b[0minput_obj_csv\u001b[0m\u001b[0;34m,\u001b[0m \u001b[0mre_time\u001b[0m\u001b[0;34m,\u001b[0m \u001b[0mre_well\u001b[0m\u001b[0;34m,\u001b[0m \u001b[0mBF_path\u001b[0m\u001b[0;34m,\u001b[0m \u001b[0moutput_path\u001b[0m\u001b[0;34m)\u001b[0m\u001b[0;34m\u001b[0m\u001b[0;34m\u001b[0m\u001b[0m\n\u001b[0m",
      "\u001b[0;31mTypeError\u001b[0m: main() missing 1 required positional argument: 'output'"
     ]
    }
   ],
   "source": [
    "if __name__ == '__main__':\n",
    "    \n",
    "    # Input/output dir\n",
    "    input_obj_csv = sorted(glob.glob('/hpc/scratch/hdd2/fs541623/CellProfilerFeatureExtraction/CP_Cropped_Cells/*/*/FilteredCytObj.csv'), key=os.path.getctime)\n",
    "    output_path = '/hpc/scratch/hdd2/fs541623/IndividuallyCroppedCells'\n",
    "    BF_path = '/hpc/scratch/hdd2/fs541623/Pre_processed_Images'\n",
    "        \n",
    "    # Compile Regex; pass into main to extract img metadata to create filenames\n",
    "    re_time = re.compile(r'(Time_\\d+hrs_R\\d)')\n",
    "    re_well = re.compile(r'(Well_\\d+)')\n",
    "    \n",
    "    # Save centre cropped cells for each img in each timepoint/well\n",
    "    main(input_obj_csv, re_time, re_well, BF_path, output_path)"
   ]
  },
  {
   "cell_type": "code",
   "execution_count": 14,
   "id": "purple-garden",
   "metadata": {},
   "outputs": [
    {
     "name": "stdout",
     "output_type": "stream",
     "text": [
      "--current csv: /hpc/scratch/hdd2/fs541623/CellProfilerFeatureExtraction/CP_Data/Time_16hrs_R1/Well_08/FilteredCytObj.csv--\n",
      "Time_16hrs_R1_Well_08_Field_1_C1.tif\n",
      "629\n",
      "0\n",
      "----------innner for loop -----------------------\n"
     ]
    },
    {
     "ename": "NameError",
     "evalue": "name 'get_centre_crop' is not defined",
     "output_type": "error",
     "traceback": [
      "\u001b[0;31m---------------------------------------------------------------------------\u001b[0m",
      "\u001b[0;31mNameError\u001b[0m                                 Traceback (most recent call last)",
      "\u001b[0;32m<ipython-input-14-ab286f1185aa>\u001b[0m in \u001b[0;36m<module>\u001b[0;34m\u001b[0m\n\u001b[1;32m     10\u001b[0m \u001b[0;34m\u001b[0m\u001b[0m\n\u001b[1;32m     11\u001b[0m \u001b[0;31m# Save centre cropped cells for each img in each timepoint/well\u001b[0m\u001b[0;34m\u001b[0m\u001b[0;34m\u001b[0m\u001b[0;34m\u001b[0m\u001b[0m\n\u001b[0;32m---> 12\u001b[0;31m \u001b[0mmain\u001b[0m\u001b[0;34m(\u001b[0m\u001b[0minput_obj_csv\u001b[0m\u001b[0;34m,\u001b[0m \u001b[0mre_time\u001b[0m\u001b[0;34m,\u001b[0m \u001b[0mre_well\u001b[0m\u001b[0;34m,\u001b[0m \u001b[0mre_field\u001b[0m\u001b[0;34m,\u001b[0m \u001b[0mBF_path\u001b[0m\u001b[0;34m,\u001b[0m \u001b[0moutput_path\u001b[0m\u001b[0;34m)\u001b[0m\u001b[0;34m\u001b[0m\u001b[0;34m\u001b[0m\u001b[0m\n\u001b[0m",
      "\u001b[0;32m<ipython-input-13-13bf77aa109b>\u001b[0m in \u001b[0;36mmain\u001b[0;34m(well_csv_list, re_time, re_well, re_field, BF_path, output)\u001b[0m\n\u001b[1;32m     35\u001b[0m                 \u001b[0mprint\u001b[0m\u001b[0;34m(\u001b[0m\u001b[0;34m'----------innner for loop -----------------------'\u001b[0m\u001b[0;34m)\u001b[0m\u001b[0;34m\u001b[0m\u001b[0;34m\u001b[0m\u001b[0m\n\u001b[1;32m     36\u001b[0m                 \u001b[0mobj_filename\u001b[0m \u001b[0;34m=\u001b[0m \u001b[0;34mf'{time}_{well}_Field_{f+1}_obj{obj}.tif'\u001b[0m\u001b[0;34m\u001b[0m\u001b[0;34m\u001b[0m\u001b[0m\n\u001b[0;32m---> 37\u001b[0;31m                 \u001b[0mcropped_img\u001b[0m \u001b[0;34m=\u001b[0m \u001b[0mget_centre_crop\u001b[0m\u001b[0;34m(\u001b[0m\u001b[0mdf_field\u001b[0m\u001b[0;34m,\u001b[0m \u001b[0mBF_file\u001b[0m\u001b[0;34m,\u001b[0m \u001b[0mobj\u001b[0m\u001b[0;34m,\u001b[0m \u001b[0mimg_masks\u001b[0m\u001b[0;34m)\u001b[0m\u001b[0;34m\u001b[0m\u001b[0;34m\u001b[0m\u001b[0m\n\u001b[0m\u001b[1;32m     38\u001b[0m                 \u001b[0msave_crop\u001b[0m\u001b[0;34m(\u001b[0m\u001b[0mobj_filename\u001b[0m\u001b[0;34m,\u001b[0m \u001b[0mcropped_img\u001b[0m\u001b[0;34m,\u001b[0m \u001b[0moutput_dir\u001b[0m\u001b[0;34m)\u001b[0m\u001b[0;34m\u001b[0m\u001b[0;34m\u001b[0m\u001b[0m\n\u001b[1;32m     39\u001b[0m \u001b[0;34m\u001b[0m\u001b[0m\n",
      "\u001b[0;31mNameError\u001b[0m: name 'get_centre_crop' is not defined"
     ]
    }
   ],
   "source": [
    "# Input/output dir\n",
    "input_obj_csv = sorted(glob.glob('/hpc/scratch/hdd2/fs541623/CellProfilerFeatureExtraction/CP_Data/*/*/FilteredCytObj.csv'), key=os.path.getctime)\n",
    "output_path = '/hpc/scratch/hdd2/fs541623/IndividuallyCroppedCells'\n",
    "BF_path = '/hpc/scratch/hdd2/fs541623/Pre_processed_Images'\n",
    "\n",
    "# Compile Regex; pass into main to extract img metadata to create filenames\n",
    "re_time = re.compile(r'(Time_\\d+hrs_R\\d)')\n",
    "re_well = re.compile(r'(Well_\\d+)')\n",
    "re_field = re.compile(r'(Field_\\d+)')\n",
    "\n",
    "# Save centre cropped cells for each img in each timepoint/well\n",
    "main(input_obj_csv, re_time, re_well, re_field, BF_path, output_path)"
   ]
  }
 ],
 "metadata": {
  "kernelspec": {
   "display_name": "Environment (conda_cell_imaging_v1)",
   "language": "python",
   "name": "conda_cell_imaging_v1"
  },
  "language_info": {
   "codemirror_mode": {
    "name": "ipython",
    "version": 3
   },
   "file_extension": ".py",
   "mimetype": "text/x-python",
   "name": "python",
   "nbconvert_exporter": "python",
   "pygments_lexer": "ipython3",
   "version": "3.7.2"
  }
 },
 "nbformat": 4,
 "nbformat_minor": 5
}
